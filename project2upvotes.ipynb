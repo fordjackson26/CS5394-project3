{
 "cells": [
  {
   "cell_type": "code",
   "execution_count": 77,
   "metadata": {
    "collapsed": true
   },
   "outputs": [],
   "source": [
    "import pandas as pd\n",
    "import numpy as np\n",
    "import seaborn as sns\n",
    "import matplotlib.pyplot as plt\n",
    "import matplotlib as mpl\n",
    "import sklearn\n",
    "from sklearn.model_selection import train_test_split"
   ]
  },
  {
   "cell_type": "code",
   "execution_count": 78,
   "outputs": [
    {
     "data": {
      "text/plain": "       ID Tag  Reputation  Answers  Username    Views  Upvotes\n0   52664   a      3942.0      2.0    155623   7855.0     42.0\n1  327662   a     26046.0     12.0     21781  55801.0   1175.0\n2  468453   c      1358.0      4.0     56177   8067.0     60.0\n3   96996   a       264.0      3.0    168793  27064.0      9.0\n4  131465   c      4271.0      4.0    112223  13986.0     83.0",
      "text/html": "<div>\n<style scoped>\n    .dataframe tbody tr th:only-of-type {\n        vertical-align: middle;\n    }\n\n    .dataframe tbody tr th {\n        vertical-align: top;\n    }\n\n    .dataframe thead th {\n        text-align: right;\n    }\n</style>\n<table border=\"1\" class=\"dataframe\">\n  <thead>\n    <tr style=\"text-align: right;\">\n      <th></th>\n      <th>ID</th>\n      <th>Tag</th>\n      <th>Reputation</th>\n      <th>Answers</th>\n      <th>Username</th>\n      <th>Views</th>\n      <th>Upvotes</th>\n    </tr>\n  </thead>\n  <tbody>\n    <tr>\n      <th>0</th>\n      <td>52664</td>\n      <td>a</td>\n      <td>3942.0</td>\n      <td>2.0</td>\n      <td>155623</td>\n      <td>7855.0</td>\n      <td>42.0</td>\n    </tr>\n    <tr>\n      <th>1</th>\n      <td>327662</td>\n      <td>a</td>\n      <td>26046.0</td>\n      <td>12.0</td>\n      <td>21781</td>\n      <td>55801.0</td>\n      <td>1175.0</td>\n    </tr>\n    <tr>\n      <th>2</th>\n      <td>468453</td>\n      <td>c</td>\n      <td>1358.0</td>\n      <td>4.0</td>\n      <td>56177</td>\n      <td>8067.0</td>\n      <td>60.0</td>\n    </tr>\n    <tr>\n      <th>3</th>\n      <td>96996</td>\n      <td>a</td>\n      <td>264.0</td>\n      <td>3.0</td>\n      <td>168793</td>\n      <td>27064.0</td>\n      <td>9.0</td>\n    </tr>\n    <tr>\n      <th>4</th>\n      <td>131465</td>\n      <td>c</td>\n      <td>4271.0</td>\n      <td>4.0</td>\n      <td>112223</td>\n      <td>13986.0</td>\n      <td>83.0</td>\n    </tr>\n  </tbody>\n</table>\n</div>"
     },
     "execution_count": 78,
     "metadata": {},
     "output_type": "execute_result"
    }
   ],
   "source": [
    "traindata = pd.read_csv('datasets/upvotes/train_NIR5Yl1.csv')\n",
    "traindata.head()"
   ],
   "metadata": {
    "collapsed": false,
    "pycharm": {
     "name": "#%%\n"
    }
   }
  },
  {
   "cell_type": "code",
   "execution_count": 79,
   "outputs": [
    {
     "data": {
      "text/plain": "       ID Tag  Reputation  Answers  Username    Views\n0  366953   a      5645.0      3.0     50652  33200.0\n1   71864   c     24511.0      6.0     37685   2730.0\n2  141692   i       927.0      1.0    135293  21167.0\n3  316833   i        21.0      6.0    166998  18528.0\n4  440445   i      4475.0     10.0     53504  57240.0",
      "text/html": "<div>\n<style scoped>\n    .dataframe tbody tr th:only-of-type {\n        vertical-align: middle;\n    }\n\n    .dataframe tbody tr th {\n        vertical-align: top;\n    }\n\n    .dataframe thead th {\n        text-align: right;\n    }\n</style>\n<table border=\"1\" class=\"dataframe\">\n  <thead>\n    <tr style=\"text-align: right;\">\n      <th></th>\n      <th>ID</th>\n      <th>Tag</th>\n      <th>Reputation</th>\n      <th>Answers</th>\n      <th>Username</th>\n      <th>Views</th>\n    </tr>\n  </thead>\n  <tbody>\n    <tr>\n      <th>0</th>\n      <td>366953</td>\n      <td>a</td>\n      <td>5645.0</td>\n      <td>3.0</td>\n      <td>50652</td>\n      <td>33200.0</td>\n    </tr>\n    <tr>\n      <th>1</th>\n      <td>71864</td>\n      <td>c</td>\n      <td>24511.0</td>\n      <td>6.0</td>\n      <td>37685</td>\n      <td>2730.0</td>\n    </tr>\n    <tr>\n      <th>2</th>\n      <td>141692</td>\n      <td>i</td>\n      <td>927.0</td>\n      <td>1.0</td>\n      <td>135293</td>\n      <td>21167.0</td>\n    </tr>\n    <tr>\n      <th>3</th>\n      <td>316833</td>\n      <td>i</td>\n      <td>21.0</td>\n      <td>6.0</td>\n      <td>166998</td>\n      <td>18528.0</td>\n    </tr>\n    <tr>\n      <th>4</th>\n      <td>440445</td>\n      <td>i</td>\n      <td>4475.0</td>\n      <td>10.0</td>\n      <td>53504</td>\n      <td>57240.0</td>\n    </tr>\n  </tbody>\n</table>\n</div>"
     },
     "execution_count": 79,
     "metadata": {},
     "output_type": "execute_result"
    }
   ],
   "source": [
    "testdata = pd.read_csv('datasets/upvotes/test_8i3B3FC.csv')\n",
    "testdata.head()"
   ],
   "metadata": {
    "collapsed": false,
    "pycharm": {
     "name": "#%%\n"
    }
   }
  },
  {
   "cell_type": "code",
   "execution_count": 80,
   "outputs": [
    {
     "name": "stdout",
     "output_type": "stream",
     "text": [
      "<class 'pandas.core.frame.DataFrame'>\n",
      "RangeIndex: 141448 entries, 0 to 141447\n",
      "Data columns (total 6 columns):\n",
      " #   Column      Non-Null Count   Dtype  \n",
      "---  ------      --------------   -----  \n",
      " 0   ID          141448 non-null  int64  \n",
      " 1   Tag         141448 non-null  object \n",
      " 2   Reputation  141448 non-null  float64\n",
      " 3   Answers     141448 non-null  float64\n",
      " 4   Username    141448 non-null  int64  \n",
      " 5   Views       141448 non-null  float64\n",
      "dtypes: float64(3), int64(2), object(1)\n",
      "memory usage: 6.5+ MB\n"
     ]
    }
   ],
   "source": [
    "testdata.info()"
   ],
   "metadata": {
    "collapsed": false,
    "pycharm": {
     "name": "#%%\n"
    }
   }
  },
  {
   "cell_type": "markdown",
   "source": [
    "## Clean Data"
   ],
   "metadata": {
    "collapsed": false
   }
  },
  {
   "cell_type": "code",
   "execution_count": 81,
   "outputs": [
    {
     "data": {
      "text/plain": "                  ID    Reputation        Answers       Username         Views\ncount  141448.000000  1.414480e+05  141448.000000  141448.000000  1.414480e+05\nmean   235743.073497  7.920927e+03       3.914873   81348.231117  2.984633e+04\nstd    136269.867118  2.791072e+04       3.577460   49046.098215  8.034374e+04\nmin         7.000000  0.000000e+00       0.000000       4.000000  9.000000e+00\n25%    117797.000000  2.860000e+02       2.000000   40222.750000  2.608000e+03\n50%    235830.000000  1.245000e+03       3.000000   78795.500000  8.977000e+03\n75%    353616.000000  5.123000e+03       5.000000  122149.000000  2.698925e+04\nmax    471488.000000  1.042428e+06      73.000000  175737.000000  5.004669e+06",
      "text/html": "<div>\n<style scoped>\n    .dataframe tbody tr th:only-of-type {\n        vertical-align: middle;\n    }\n\n    .dataframe tbody tr th {\n        vertical-align: top;\n    }\n\n    .dataframe thead th {\n        text-align: right;\n    }\n</style>\n<table border=\"1\" class=\"dataframe\">\n  <thead>\n    <tr style=\"text-align: right;\">\n      <th></th>\n      <th>ID</th>\n      <th>Reputation</th>\n      <th>Answers</th>\n      <th>Username</th>\n      <th>Views</th>\n    </tr>\n  </thead>\n  <tbody>\n    <tr>\n      <th>count</th>\n      <td>141448.000000</td>\n      <td>1.414480e+05</td>\n      <td>141448.000000</td>\n      <td>141448.000000</td>\n      <td>1.414480e+05</td>\n    </tr>\n    <tr>\n      <th>mean</th>\n      <td>235743.073497</td>\n      <td>7.920927e+03</td>\n      <td>3.914873</td>\n      <td>81348.231117</td>\n      <td>2.984633e+04</td>\n    </tr>\n    <tr>\n      <th>std</th>\n      <td>136269.867118</td>\n      <td>2.791072e+04</td>\n      <td>3.577460</td>\n      <td>49046.098215</td>\n      <td>8.034374e+04</td>\n    </tr>\n    <tr>\n      <th>min</th>\n      <td>7.000000</td>\n      <td>0.000000e+00</td>\n      <td>0.000000</td>\n      <td>4.000000</td>\n      <td>9.000000e+00</td>\n    </tr>\n    <tr>\n      <th>25%</th>\n      <td>117797.000000</td>\n      <td>2.860000e+02</td>\n      <td>2.000000</td>\n      <td>40222.750000</td>\n      <td>2.608000e+03</td>\n    </tr>\n    <tr>\n      <th>50%</th>\n      <td>235830.000000</td>\n      <td>1.245000e+03</td>\n      <td>3.000000</td>\n      <td>78795.500000</td>\n      <td>8.977000e+03</td>\n    </tr>\n    <tr>\n      <th>75%</th>\n      <td>353616.000000</td>\n      <td>5.123000e+03</td>\n      <td>5.000000</td>\n      <td>122149.000000</td>\n      <td>2.698925e+04</td>\n    </tr>\n    <tr>\n      <th>max</th>\n      <td>471488.000000</td>\n      <td>1.042428e+06</td>\n      <td>73.000000</td>\n      <td>175737.000000</td>\n      <td>5.004669e+06</td>\n    </tr>\n  </tbody>\n</table>\n</div>"
     },
     "execution_count": 81,
     "metadata": {},
     "output_type": "execute_result"
    }
   ],
   "source": [
    "testdata =testdata.dropna()\n",
    "testdata.describe()"
   ],
   "metadata": {
    "collapsed": false,
    "pycharm": {
     "name": "#%%\n"
    }
   }
  },
  {
   "cell_type": "markdown",
   "source": [
    "## Ordinal Encoder"
   ],
   "metadata": {
    "collapsed": false
   }
  },
  {
   "cell_type": "code",
   "execution_count": 82,
   "outputs": [],
   "source": [
    "from sklearn.preprocessing import OrdinalEncoder\n",
    "ordinal_encoder = OrdinalEncoder()"
   ],
   "metadata": {
    "collapsed": false,
    "pycharm": {
     "name": "#%%\n"
    }
   }
  },
  {
   "cell_type": "code",
   "execution_count": 83,
   "outputs": [
    {
     "data": {
      "text/plain": "array([[0.],\n       [0.],\n       [1.],\n       [0.],\n       [1.],\n       [7.],\n       [1.],\n       [4.],\n       [4.],\n       [1.]])"
     },
     "execution_count": 83,
     "metadata": {},
     "output_type": "execute_result"
    }
   ],
   "source": [
    "tag_cat = traindata[['Tag']]\n",
    "tag_cat_encoded = ordinal_encoder.fit_transform(tag_cat)\n",
    "tag_cat_encoded[:10]"
   ],
   "metadata": {
    "collapsed": false,
    "pycharm": {
     "name": "#%%\n"
    }
   }
  },
  {
   "cell_type": "markdown",
   "source": [
    "## One-Hot Encoder"
   ],
   "metadata": {
    "collapsed": false
   }
  },
  {
   "cell_type": "code",
   "execution_count": 84,
   "outputs": [
    {
     "data": {
      "text/plain": "array([[1., 0., 0., ..., 0., 0., 0.],\n       [1., 0., 0., ..., 0., 0., 0.],\n       [0., 1., 0., ..., 0., 0., 0.],\n       ...,\n       [0., 1., 0., ..., 0., 0., 0.],\n       [0., 0., 0., ..., 0., 0., 0.],\n       [0., 0., 0., ..., 0., 0., 0.]])"
     },
     "execution_count": 84,
     "metadata": {},
     "output_type": "execute_result"
    }
   ],
   "source": [
    "from sklearn.preprocessing import OneHotEncoder\n",
    "\n",
    "cat_encoder = OneHotEncoder()\n",
    "tag_cat_1hot = cat_encoder.fit_transform(tag_cat)\n",
    "tag_cat_1hot.toarray()"
   ],
   "metadata": {
    "collapsed": false,
    "pycharm": {
     "name": "#%%\n"
    }
   }
  },
  {
   "cell_type": "markdown",
   "source": [
    "## Custom Transformer"
   ],
   "metadata": {
    "collapsed": false
   }
  },
  {
   "cell_type": "code",
   "execution_count": 85,
   "outputs": [],
   "source": [
    "class custom_transformer:\n",
    "    def __init__(self):\n",
    "        pass\n",
    "    def fit(self, X, y=None):\n",
    "        return self\n",
    "    def transform(self, X):\n",
    "        answer_index, views_index = 3,5\n",
    "        answers_per_view = X[:, answer_index] / X[:, views_index]\n",
    "        return np.c_[X, answers_per_view]\n"
   ],
   "metadata": {
    "collapsed": false,
    "pycharm": {
     "name": "#%%\n"
    }
   }
  },
  {
   "cell_type": "code",
   "execution_count": 86,
   "outputs": [],
   "source": [
    "extra_cols = transform(traindata.values)"
   ],
   "metadata": {
    "collapsed": false,
    "pycharm": {
     "name": "#%%\n"
    }
   }
  },
  {
   "cell_type": "code",
   "execution_count": 87,
   "outputs": [
    {
     "data": {
      "text/plain": "       ID Tag Reputation Answers Username    Views Upvotes answers per view\n0   52664   a     3942.0     2.0   155623   7855.0    42.0         0.000255\n1  327662   a    26046.0    12.0    21781  55801.0  1175.0         0.000215\n2  468453   c     1358.0     4.0    56177   8067.0    60.0         0.000496\n3   96996   a      264.0     3.0   168793  27064.0     9.0         0.000111\n4  131465   c     4271.0     4.0   112223  13986.0    83.0         0.000286",
      "text/html": "<div>\n<style scoped>\n    .dataframe tbody tr th:only-of-type {\n        vertical-align: middle;\n    }\n\n    .dataframe tbody tr th {\n        vertical-align: top;\n    }\n\n    .dataframe thead th {\n        text-align: right;\n    }\n</style>\n<table border=\"1\" class=\"dataframe\">\n  <thead>\n    <tr style=\"text-align: right;\">\n      <th></th>\n      <th>ID</th>\n      <th>Tag</th>\n      <th>Reputation</th>\n      <th>Answers</th>\n      <th>Username</th>\n      <th>Views</th>\n      <th>Upvotes</th>\n      <th>answers per view</th>\n    </tr>\n  </thead>\n  <tbody>\n    <tr>\n      <th>0</th>\n      <td>52664</td>\n      <td>a</td>\n      <td>3942.0</td>\n      <td>2.0</td>\n      <td>155623</td>\n      <td>7855.0</td>\n      <td>42.0</td>\n      <td>0.000255</td>\n    </tr>\n    <tr>\n      <th>1</th>\n      <td>327662</td>\n      <td>a</td>\n      <td>26046.0</td>\n      <td>12.0</td>\n      <td>21781</td>\n      <td>55801.0</td>\n      <td>1175.0</td>\n      <td>0.000215</td>\n    </tr>\n    <tr>\n      <th>2</th>\n      <td>468453</td>\n      <td>c</td>\n      <td>1358.0</td>\n      <td>4.0</td>\n      <td>56177</td>\n      <td>8067.0</td>\n      <td>60.0</td>\n      <td>0.000496</td>\n    </tr>\n    <tr>\n      <th>3</th>\n      <td>96996</td>\n      <td>a</td>\n      <td>264.0</td>\n      <td>3.0</td>\n      <td>168793</td>\n      <td>27064.0</td>\n      <td>9.0</td>\n      <td>0.000111</td>\n    </tr>\n    <tr>\n      <th>4</th>\n      <td>131465</td>\n      <td>c</td>\n      <td>4271.0</td>\n      <td>4.0</td>\n      <td>112223</td>\n      <td>13986.0</td>\n      <td>83.0</td>\n      <td>0.000286</td>\n    </tr>\n  </tbody>\n</table>\n</div>"
     },
     "execution_count": 87,
     "metadata": {},
     "output_type": "execute_result"
    }
   ],
   "source": [
    "training_extra = pd.DataFrame(\n",
    "    extra_cols,\n",
    "    columns=list(traindata.columns)+[\"answers per view\"],\n",
    "    index=traindata.index)\n",
    "training_extra.head()"
   ],
   "metadata": {
    "collapsed": false,
    "pycharm": {
     "name": "#%%\n"
    }
   }
  },
  {
   "cell_type": "markdown",
   "source": [
    "## Scale Views from 0 - 1"
   ],
   "metadata": {
    "collapsed": false
   }
  },
  {
   "cell_type": "code",
   "execution_count": 88,
   "outputs": [
    {
     "data": {
      "text/plain": "array([[0.02631579, 0.00149989],\n       [0.15789474, 0.01066555],\n       [0.05263158, 0.00154042],\n       [0.03947368, 0.005172  ],\n       [0.05263158, 0.00267193]])"
     },
     "execution_count": 88,
     "metadata": {},
     "output_type": "execute_result"
    }
   ],
   "source": [
    "from sklearn import preprocessing\n",
    "x = traindata[[\"Answers\",\"Views\"]] #returns a numpy array\n",
    "min_max_scaler = preprocessing.MinMaxScaler()\n",
    "x_scaled = min_max_scaler.fit_transform(x)\n",
    "x_scaled[:5]"
   ],
   "metadata": {
    "collapsed": false,
    "pycharm": {
     "name": "#%%\n"
    }
   }
  },
  {
   "cell_type": "code",
   "execution_count": 106,
   "outputs": [
    {
     "data": {
      "text/plain": "       ID Tag  Reputation  Answers  Username    Views  Upvotes\n0   52664   a      3942.0      2.0    155623   7855.0     42.0\n1  327662   a     26046.0     12.0     21781  55801.0   1175.0\n2  468453   c      1358.0      4.0     56177   8067.0     60.0\n3   96996   a       264.0      3.0    168793  27064.0      9.0\n4  131465   c      4271.0      4.0    112223  13986.0     83.0",
      "text/html": "<div>\n<style scoped>\n    .dataframe tbody tr th:only-of-type {\n        vertical-align: middle;\n    }\n\n    .dataframe tbody tr th {\n        vertical-align: top;\n    }\n\n    .dataframe thead th {\n        text-align: right;\n    }\n</style>\n<table border=\"1\" class=\"dataframe\">\n  <thead>\n    <tr style=\"text-align: right;\">\n      <th></th>\n      <th>ID</th>\n      <th>Tag</th>\n      <th>Reputation</th>\n      <th>Answers</th>\n      <th>Username</th>\n      <th>Views</th>\n      <th>Upvotes</th>\n    </tr>\n  </thead>\n  <tbody>\n    <tr>\n      <th>0</th>\n      <td>52664</td>\n      <td>a</td>\n      <td>3942.0</td>\n      <td>2.0</td>\n      <td>155623</td>\n      <td>7855.0</td>\n      <td>42.0</td>\n    </tr>\n    <tr>\n      <th>1</th>\n      <td>327662</td>\n      <td>a</td>\n      <td>26046.0</td>\n      <td>12.0</td>\n      <td>21781</td>\n      <td>55801.0</td>\n      <td>1175.0</td>\n    </tr>\n    <tr>\n      <th>2</th>\n      <td>468453</td>\n      <td>c</td>\n      <td>1358.0</td>\n      <td>4.0</td>\n      <td>56177</td>\n      <td>8067.0</td>\n      <td>60.0</td>\n    </tr>\n    <tr>\n      <th>3</th>\n      <td>96996</td>\n      <td>a</td>\n      <td>264.0</td>\n      <td>3.0</td>\n      <td>168793</td>\n      <td>27064.0</td>\n      <td>9.0</td>\n    </tr>\n    <tr>\n      <th>4</th>\n      <td>131465</td>\n      <td>c</td>\n      <td>4271.0</td>\n      <td>4.0</td>\n      <td>112223</td>\n      <td>13986.0</td>\n      <td>83.0</td>\n    </tr>\n  </tbody>\n</table>\n</div>"
     },
     "execution_count": 106,
     "metadata": {},
     "output_type": "execute_result"
    }
   ],
   "source": [
    "data = traindata.drop(\"Upvotes\", axis = 1)\n",
    "vals = traindata.Upvotes\n",
    "traindata.head()"
   ],
   "metadata": {
    "collapsed": false,
    "pycharm": {
     "name": "#%%\n"
    }
   }
  },
  {
   "cell_type": "markdown",
   "source": [
    "## Grid search for optimization"
   ],
   "metadata": {
    "collapsed": false
   }
  },
  {
   "cell_type": "code",
   "execution_count": 107,
   "outputs": [],
   "source": [
    "from sklearn.ensemble import GradientBoostingRegressor\n",
    "gra_reg =  GradientBoostingRegressor()"
   ],
   "metadata": {
    "collapsed": false,
    "pycharm": {
     "name": "#%%\n"
    }
   }
  },
  {
   "cell_type": "code",
   "execution_count": 120,
   "outputs": [
    {
     "data": {
      "text/plain": "            ID Tag  Reputation  Answers  Username    Views  Upvotes\n307650  468144   c       854.0      3.0     83401   1512.0     20.0\n121371   11923   c       859.0      4.0     88355    486.0      2.0\n128897  250656   p       762.0      1.0     43920   9180.0     34.0\n300177  222530   j      5806.0      6.0     55647  45352.0    383.0\n94284    97696   j       215.0      5.0     46918  21520.0     18.0",
      "text/html": "<div>\n<style scoped>\n    .dataframe tbody tr th:only-of-type {\n        vertical-align: middle;\n    }\n\n    .dataframe tbody tr th {\n        vertical-align: top;\n    }\n\n    .dataframe thead th {\n        text-align: right;\n    }\n</style>\n<table border=\"1\" class=\"dataframe\">\n  <thead>\n    <tr style=\"text-align: right;\">\n      <th></th>\n      <th>ID</th>\n      <th>Tag</th>\n      <th>Reputation</th>\n      <th>Answers</th>\n      <th>Username</th>\n      <th>Views</th>\n      <th>Upvotes</th>\n    </tr>\n  </thead>\n  <tbody>\n    <tr>\n      <th>307650</th>\n      <td>468144</td>\n      <td>c</td>\n      <td>854.0</td>\n      <td>3.0</td>\n      <td>83401</td>\n      <td>1512.0</td>\n      <td>20.0</td>\n    </tr>\n    <tr>\n      <th>121371</th>\n      <td>11923</td>\n      <td>c</td>\n      <td>859.0</td>\n      <td>4.0</td>\n      <td>88355</td>\n      <td>486.0</td>\n      <td>2.0</td>\n    </tr>\n    <tr>\n      <th>128897</th>\n      <td>250656</td>\n      <td>p</td>\n      <td>762.0</td>\n      <td>1.0</td>\n      <td>43920</td>\n      <td>9180.0</td>\n      <td>34.0</td>\n    </tr>\n    <tr>\n      <th>300177</th>\n      <td>222530</td>\n      <td>j</td>\n      <td>5806.0</td>\n      <td>6.0</td>\n      <td>55647</td>\n      <td>45352.0</td>\n      <td>383.0</td>\n    </tr>\n    <tr>\n      <th>94284</th>\n      <td>97696</td>\n      <td>j</td>\n      <td>215.0</td>\n      <td>5.0</td>\n      <td>46918</td>\n      <td>21520.0</td>\n      <td>18.0</td>\n    </tr>\n  </tbody>\n</table>\n</div>"
     },
     "execution_count": 120,
     "metadata": {},
     "output_type": "execute_result"
    }
   ],
   "source": [
    "train, test = train_test_split(traindata, test_size=0.30)\n",
    "train[:5]"
   ],
   "metadata": {
    "collapsed": false,
    "pycharm": {
     "name": "#%%\n"
    }
   }
  },
  {
   "cell_type": "code",
   "source": [
    "data = train.drop(\"Upvotes\", axis=1) # drop labels for training set\n",
    "labels = train[\"Upvotes\"].copy()"
   ],
   "metadata": {
    "collapsed": false,
    "pycharm": {
     "name": "#%%\n"
    }
   },
   "execution_count": 122,
   "outputs": []
  },
  {
   "cell_type": "code",
   "execution_count": 123,
   "outputs": [],
   "source": [
    "preped_data = full_pipeline.fit_transform(data)"
   ],
   "metadata": {
    "collapsed": false,
    "pycharm": {
     "name": "#%%\n"
    }
   }
  },
  {
   "cell_type": "code",
   "execution_count": 125,
   "outputs": [
    {
     "data": {
      "text/plain": "RandomForestRegressor(random_state=42)"
     },
     "execution_count": 125,
     "metadata": {},
     "output_type": "execute_result"
    }
   ],
   "source": [
    "from sklearn.ensemble import RandomForestRegressor\n",
    "\n",
    "forest_reg = RandomForestRegressor(n_estimators=100, random_state=42)\n",
    "forest_reg.fit(preped_data, labels)"
   ],
   "metadata": {
    "collapsed": false,
    "pycharm": {
     "name": "#%%\n"
    }
   }
  },
  {
   "cell_type": "code",
   "execution_count": 128,
   "outputs": [
    {
     "data": {
      "text/plain": "555.1864541731752"
     },
     "execution_count": 128,
     "metadata": {},
     "output_type": "execute_result"
    }
   ],
   "source": [
    "from sklearn.metrics import mean_squared_error\n",
    "predictions = forest_reg.predict(preped_data)\n",
    "forest_mse = mean_squared_error(labels, predictions)\n",
    "forest_rmse = np.sqrt(forest_mse)\n",
    "forest_rmse"
   ],
   "metadata": {
    "collapsed": false,
    "pycharm": {
     "name": "#%%\n"
    }
   }
  },
  {
   "cell_type": "code",
   "source": [
    "from sklearn.model_selection import GridSearchCV\n",
    "\n",
    "param_grid = [\n",
    "    # try 12 (3×4) combinations of hyperparameters\n",
    "    {'n_estimators': [3, 10, 30], 'max_features': [2, 4, 6]},\n",
    "    # then try 6 (2×3) combinations with bootstrap set as False\n",
    "    {'bootstrap': [False], 'n_estimators': [3, 10], 'max_features': [2, 3, 4]},\n",
    "]\n",
    "\n",
    "forest_reg = RandomForestRegressor(random_state=42)\n",
    "\n",
    "grid_search = GridSearchCV(forest_reg, param_grid, cv=5,\n",
    "                           scoring='neg_mean_squared_error',\n",
    "                           return_train_score=True)\n",
    "grid_search.fit(preped_data, labels)"
   ],
   "metadata": {
    "collapsed": false,
    "pycharm": {
     "name": "#%%\n"
    }
   },
   "execution_count": 135,
   "outputs": [
    {
     "data": {
      "text/plain": "GridSearchCV(cv=5, estimator=RandomForestRegressor(random_state=42),\n             param_grid=[{'max_features': [2, 4, 6],\n                          'n_estimators': [3, 10, 30]},\n                         {'bootstrap': [False], 'max_features': [2, 3, 4],\n                          'n_estimators': [3, 10]}],\n             return_train_score=True, scoring='neg_mean_squared_error')"
     },
     "execution_count": 135,
     "metadata": {},
     "output_type": "execute_result"
    }
   ]
  },
  {
   "cell_type": "code",
   "execution_count": 136,
   "outputs": [
    {
     "data": {
      "text/plain": "{'max_features': 6, 'n_estimators': 10}"
     },
     "execution_count": 136,
     "metadata": {},
     "output_type": "execute_result"
    }
   ],
   "source": [
    "grid_search.best_params_"
   ],
   "metadata": {
    "collapsed": false,
    "pycharm": {
     "name": "#%%\n"
    }
   }
  },
  {
   "cell_type": "markdown",
   "source": [
    "## Pipeline for all data processing and Prediction\n",
    "\n",
    "#### number pipeline"
   ],
   "metadata": {
    "collapsed": false
   }
  },
  {
   "cell_type": "code",
   "execution_count": null,
   "outputs": [],
   "source": [
    "traindata.head()"
   ],
   "metadata": {
    "collapsed": false,
    "pycharm": {
     "name": "#%%\n"
    }
   }
  },
  {
   "cell_type": "code",
   "execution_count": null,
   "outputs": [],
   "source": [
    "traindata = traindata.drop(\"ID\", axis = 1)\n",
    "# drop ID because it provides no real information"
   ],
   "metadata": {
    "collapsed": false,
    "pycharm": {
     "name": "#%%\n"
    }
   }
  },
  {
   "cell_type": "code",
   "execution_count": null,
   "outputs": [],
   "source": [
    "from sklearn.pipeline import Pipeline\n",
    "from sklearn.impute import SimpleImputer\n",
    "\n",
    "train_num = traindata.drop([\"Tag\",\"Username\"], axis=1)\n",
    "num_pipeline = Pipeline([\n",
    "    ('imputer', SimpleImputer(strategy=\"median\")),\n",
    "    ('std_scaler', StandardScaler()),\n",
    "])\n",
    "train_num_tr = num_pipeline.fit_transform(train_num)\n",
    "train_num_tr[:5]"
   ],
   "metadata": {
    "collapsed": false,
    "pycharm": {
     "name": "#%%\n"
    }
   }
  },
  {
   "cell_type": "code",
   "execution_count": 112,
   "outputs": [],
   "source": [
    "from sklearn.compose import ColumnTransformer\n",
    "from sklearn.ensemble import  RandomForestRegressor\n",
    "\n",
    "num_attribs = list(train_num)\n",
    "num_attribs.pop\n",
    "num\n",
    "cat_attribs = [\"Tag\"]\n",
    "\n",
    "\n",
    "full_pipeline = ColumnTransformer([\n",
    "    (\"num\", num_pipeline, num_attribs),\n",
    "    (\"cat\", OneHotEncoder(), cat_attribs)\n",
    "])\n",
    "\n",
    "prepared = full_pipeline.fit_transform(traindata)"
   ],
   "metadata": {
    "collapsed": false,
    "pycharm": {
     "name": "#%%\n"
    }
   }
  },
  {
   "cell_type": "code",
   "execution_count": 117,
   "outputs": [
    {
     "name": "stdout",
     "output_type": "stream",
     "text": [
      "['Reputation', 'Answers', 'Views']\n"
     ]
    }
   ],
   "source": [
    "print(num_attribs)"
   ],
   "metadata": {
    "collapsed": false,
    "pycharm": {
     "name": "#%%\n"
    }
   }
  },
  {
   "cell_type": "code",
   "execution_count": 116,
   "outputs": [
    {
     "data": {
      "text/plain": "'Upvotes'"
     },
     "execution_count": 116,
     "metadata": {},
     "output_type": "execute_result"
    }
   ],
   "source": [
    "num_attribs.pop()"
   ],
   "metadata": {
    "collapsed": false,
    "pycharm": {
     "name": "#%%\n"
    }
   }
  },
  {
   "cell_type": "code",
   "execution_count": null,
   "outputs": [],
   "source": [],
   "metadata": {
    "collapsed": false,
    "pycharm": {
     "name": "#%%\n"
    }
   }
  }
 ],
 "metadata": {
  "kernelspec": {
   "display_name": "Python 3",
   "language": "python",
   "name": "python3"
  },
  "language_info": {
   "codemirror_mode": {
    "name": "ipython",
    "version": 2
   },
   "file_extension": ".py",
   "mimetype": "text/x-python",
   "name": "python",
   "nbconvert_exporter": "python",
   "pygments_lexer": "ipython2",
   "version": "2.7.6"
  }
 },
 "nbformat": 4,
 "nbformat_minor": 0
}